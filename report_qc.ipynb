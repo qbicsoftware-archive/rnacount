{
 "cells": [
  {
   "cell_type": "markdown",
   "metadata": {},
   "source": [
    "# shRNA counts, Zexi Hu, I16D022a01"
   ]
  },
  {
   "cell_type": "code",
   "execution_count": 30,
   "metadata": {
    "collapsed": false
   },
   "outputs": [
    {
     "name": "stdout",
     "output_type": "stream",
     "text": [
      "Di 16. Aug 16:39:47 CEST 2016\r\n"
     ]
    }
   ],
   "source": [
    "! date"
   ]
  },
  {
   "cell_type": "code",
   "execution_count": 31,
   "metadata": {
    "collapsed": false
   },
   "outputs": [],
   "source": [
    "import numpy as np\n",
    "import pandas as pd\n",
    "import matplotlib.pyplot as plt\n",
    "import seaborn as sb\n",
    "import json\n",
    "\n",
    "#%load_ext rpy2.ipython\n",
    "%matplotlib inline"
   ]
  },
  {
   "cell_type": "code",
   "execution_count": 32,
   "metadata": {
    "collapsed": false
   },
   "outputs": [
    {
     "name": "stdout",
     "output_type": "stream",
     "text": [
      "/home/adr/data/rnacount\n"
     ]
    }
   ],
   "source": [
    "cd \"~/data/rnacount/\""
   ]
  },
  {
   "cell_type": "code",
   "execution_count": 34,
   "metadata": {
    "collapsed": false
   },
   "outputs": [
    {
     "name": "stdout",
     "output_type": "stream",
     "text": [
      "5afcef00440c39be77f5a7c370977635c3380130286076e83156e80768ebc60a  ./20160810110515_I16D022a01_01_NoIndex_L001_R1_001.fastq.gz/20160810110515_I16D022a01_01_NoIndex_L001_R1_001.fastq\n",
      "7026688692b625f6047cad346a7a0e4369ce3093554ccd6547cfbe9145f9819f  ./4nt barcode_1.xlsx\n",
      "bf343235b7f0c0694e386f15efa56a1a6cec34dee20b5f86ca0a71f1b4cdf62d  KPP shRNA list.xlsx\n"
     ]
    }
   ],
   "source": [
    "sample = \"I16D022a01\"\n",
    "fastq = \"./20160810110515_I16D022a01_01_NoIndex_L001_R1_001.fastq.gz/20160810110515_I16D022a01_01_NoIndex_L001_R1_001.fastq\"\n",
    "libraries = [\"KPP shRNA list.xlsx\"]\n",
    "barcodes = \"./4nt barcode_1.xlsx\"\n",
    "\n",
    "for file in [fastq, barcodes] + libraries:\n",
    "    ! sha256sum \"{file}\""
   ]
  },
  {
   "cell_type": "code",
   "execution_count": 35,
   "metadata": {
    "collapsed": false
   },
   "outputs": [],
   "source": [
    "libs = []\n",
    "for lib in libraries:\n",
    "    if lib.endswith('.csv'):\n",
    "        libs.append(pd.read_csv(lib, header=None, sep='\\t', names=[\"seq\"]))\n",
    "    elif lib.endswith('.xlsx'):\n",
    "        libs.append(pd.read_excel(lib, names=[\"guide\", \"seq\"], index_col=0))\n",
    "    else:\n",
    "        raise ValueError(\"Unknown library format\")\n",
    "\n",
    "library = pd.concat(libs, axis=0, verify_integrity=True)\n",
    "library = library['seq'].str.upper()\n",
    "assert library.index.is_unique\n",
    "library = library.drop_duplicates()\n",
    "library = library.str[20:39]\n",
    "assert library.value_counts().max() == 1\n",
    "library = library.astype(bytes)"
   ]
  },
  {
   "cell_type": "code",
   "execution_count": 36,
   "metadata": {
    "collapsed": false
   },
   "outputs": [],
   "source": [
    "barcodes = pd.read_excel(barcodes, parse_cols=[1], names=['barcode'])['barcode']\n",
    "barcodes = barcodes.str.upper().astype(bytes)\n",
    "assert barcodes.value_counts().max() == 1"
   ]
  },
  {
   "cell_type": "code",
   "execution_count": 37,
   "metadata": {
    "collapsed": false
   },
   "outputs": [],
   "source": [
    "%run -n ~/git/rnacount/rnacount.py"
   ]
  },
  {
   "cell_type": "code",
   "execution_count": 38,
   "metadata": {
    "collapsed": false
   },
   "outputs": [],
   "source": [
    "reads = read_fastq(fastq)"
   ]
  },
  {
   "cell_type": "code",
   "execution_count": 39,
   "metadata": {
    "collapsed": false
   },
   "outputs": [
    {
     "name": "stdout",
     "output_type": "stream",
     "text": [
      "CPU times: user 9min 28s, sys: 9.88 s, total: 9min 38s\n",
      "Wall time: 9min 38s\n"
     ]
    }
   ],
   "source": [
    "%%time\n",
    "counts, stats, oligo_counts = count_reads(\n",
    "    reads,\n",
    "    library=library,\n",
    "    barcodes=barcodes,\n",
    "    loop_rc=b\"TACATCTGTGGCTTCACTA\",\n",
    "    #adapters=[b\"ATCTCGTATGCCGTCTTCTGCTTG\", b\"TCGTATGCCGTCTTCTGCTTG\"],\n",
    "    adapters=[b\"ATCTCGTA\", b\"TCGTATG\"],\n",
    "    oligo_offset=-20,\n",
    "    barcode_offset=19,\n",
    "    adapter_offsets=[23, 23],\n",
    "    expect_loop_idx=20,\n",
    "    oligo_len=19,\n",
    "    barcode_len=4,\n",
    ")"
   ]
  },
  {
   "cell_type": "code",
   "execution_count": 40,
   "metadata": {
    "collapsed": false
   },
   "outputs": [],
   "source": [
    "with open('stats_{}.json'.format(sample), 'w') as file:\n",
    "    json.dump(stats, file)"
   ]
  },
  {
   "cell_type": "code",
   "execution_count": 41,
   "metadata": {
    "collapsed": false
   },
   "outputs": [],
   "source": [
    "counts.to_excel('counts_{}.xlsx'.format(sample))\n",
    "\n",
    "counts.index.name = \"gene\"\n",
    "counts.columns.name = \"barcode\"\n",
    "\n",
    "counts_ = counts.unstack()\n",
    "counts_.name = \"count\"\n",
    "\n",
    "groups = counts_.reset_index().groupby(\"barcode\")\n",
    "by_barcode = dict(\n",
    "    (\n",
    "        key,\n",
    "        val.sort_values(by=[\"count\", \"gene\"], ascending=False)\n",
    "                .reset_index()[[\"gene\", \"count\"]]\n",
    "    )\n",
    "    for key, val in groups\n",
    ")\n",
    "counts_sorted = pd.concat(by_barcode, axis=1)\n",
    "counts_sorted.to_excel(\"counts_sorted_{}.xlsx\".format(sample))"
   ]
  },
  {
   "cell_type": "markdown",
   "metadata": {},
   "source": [
    "## Quality control"
   ]
  },
  {
   "cell_type": "code",
   "execution_count": 42,
   "metadata": {
    "collapsed": false
   },
   "outputs": [
    {
     "data": {
      "text/plain": [
       "158750762"
      ]
     },
     "execution_count": 42,
     "metadata": {},
     "output_type": "execute_result"
    }
   ],
   "source": [
    "stats['num_reads']"
   ]
  },
  {
   "cell_type": "markdown",
   "metadata": {},
   "source": [
    "Number of reads with loop and adapter sequences but no valid barcode"
   ]
  },
  {
   "cell_type": "code",
   "execution_count": 43,
   "metadata": {
    "collapsed": false
   },
   "outputs": [
    {
     "data": {
      "text/plain": [
       "464473"
      ]
     },
     "execution_count": 43,
     "metadata": {},
     "output_type": "execute_result"
    }
   ],
   "source": [
    "stats['loop__adapter__no_barcode']"
   ]
  },
  {
   "cell_type": "code",
   "execution_count": 44,
   "metadata": {
    "collapsed": false
   },
   "outputs": [
    {
     "data": {
      "text/plain": [
       "0.3442792326922548"
      ]
     },
     "execution_count": 44,
     "metadata": {},
     "output_type": "execute_result"
    }
   ],
   "source": [
    "100 * stats['loop__adapter__no_barcode'] / (stats['num_reads'] - stats['no_loop'] - stats['loop__no_adapter'])"
   ]
  },
  {
   "cell_type": "markdown",
   "metadata": {},
   "source": [
    "Percentage of reads that contain the loop sequence:"
   ]
  },
  {
   "cell_type": "code",
   "execution_count": 45,
   "metadata": {
    "collapsed": false
   },
   "outputs": [
    {
     "data": {
      "text/plain": [
       "85.92316615147963"
      ]
     },
     "execution_count": 45,
     "metadata": {},
     "output_type": "execute_result"
    }
   ],
   "source": [
    "100 * (stats['num_reads'] - stats['no_loop']) / stats['num_reads']"
   ]
  },
  {
   "cell_type": "markdown",
   "metadata": {},
   "source": [
    "What percentage of those reads does not contain the beginnig of the adapter sequence after the loop?"
   ]
  },
  {
   "cell_type": "code",
   "execution_count": 46,
   "metadata": {
    "collapsed": false
   },
   "outputs": [
    {
     "data": {
      "text/plain": [
       "1.0937908633125524"
      ]
     },
     "execution_count": 46,
     "metadata": {},
     "output_type": "execute_result"
    }
   ],
   "source": [
    "100 * stats['loop__no_adapter'] / (stats['num_reads'] - stats['no_loop'])"
   ]
  },
  {
   "cell_type": "markdown",
   "metadata": {},
   "source": [
    "What percentage of reads with loop and adapter contain one of the expected shRNA sequences from the library?"
   ]
  },
  {
   "cell_type": "code",
   "execution_count": 47,
   "metadata": {
    "collapsed": false
   },
   "outputs": [
    {
     "data": {
      "text/plain": [
       "72.90732064696238"
      ]
     },
     "execution_count": 47,
     "metadata": {},
     "output_type": "execute_result"
    }
   ],
   "source": [
    "100 - 100 * stats['loop__adapter__barcode__no_oligo'] / (stats['num_reads'] - stats['no_loop'] - stats['loop__no_adapter'])"
   ]
  },
  {
   "cell_type": "markdown",
   "metadata": {},
   "source": [
    "How may reads with loop, adapter and library shRNA do we get in total?"
   ]
  },
  {
   "cell_type": "code",
   "execution_count": 48,
   "metadata": {
    "collapsed": false
   },
   "outputs": [
    {
     "data": {
      "text/plain": [
       "87923885"
      ]
     },
     "execution_count": 48,
     "metadata": {},
     "output_type": "execute_result"
    }
   ],
   "source": [
    "counts.sum().sum()"
   ]
  },
  {
   "cell_type": "markdown",
   "metadata": {},
   "source": [
    "Percentage of all reads:"
   ]
  },
  {
   "cell_type": "code",
   "execution_count": 49,
   "metadata": {
    "collapsed": false
   },
   "outputs": [
    {
     "data": {
      "text/plain": [
       "55.384858562127718"
      ]
     },
     "execution_count": 49,
     "metadata": {},
     "output_type": "execute_result"
    }
   ],
   "source": [
    "100 * counts.sum().sum() / stats['num_reads']"
   ]
  },
  {
   "cell_type": "markdown",
   "metadata": {},
   "source": [
    "What are the most common sequences that occured instead of the library sequences?"
   ]
  },
  {
   "cell_type": "code",
   "execution_count": 50,
   "metadata": {
    "collapsed": false
   },
   "outputs": [
    {
     "data": {
      "text/plain": [
       "[(b'', 3653758),\n",
       " (b'GGAATTATAATGCCTATCT', 195029),\n",
       " (b'TTCAAGTCAAATCACAGAA', 192846),\n",
       " (b'GGAATTATAATGCCCATCT', 146826),\n",
       " (b'TCCAGTTATTGTAAATGAT', 144485),\n",
       " (b'ACCAGGAATGTAGCTATGC', 142842),\n",
       " (b'ACCTTTGCAGACGTTCATT', 142554),\n",
       " (b'TCCCAAAGTACTTACTATT', 127365),\n",
       " (b'CTCCTAGAGACAATATGCA', 101177),\n",
       " (b'CCATAGTTCCTGCCTGGAT', 81307)]"
      ]
     },
     "execution_count": 50,
     "metadata": {},
     "output_type": "execute_result"
    }
   ],
   "source": [
    "oligo_counts.most_common(10)"
   ]
  },
  {
   "cell_type": "markdown",
   "metadata": {},
   "source": [
    "At which positions did we find the loop sequence (0-based)? (We want them to start at position 22)"
   ]
  },
  {
   "cell_type": "code",
   "execution_count": 51,
   "metadata": {
    "collapsed": false
   },
   "outputs": [
    {
     "data": {
      "text/plain": [
       "<matplotlib.axes._subplots.AxesSubplot at 0x7f92b0f13b70>"
      ]
     },
     "execution_count": 51,
     "metadata": {},
     "output_type": "execute_result"
    },
    {
     "data": {
      "image/png": "[encoded data removed]",
      "text/plain": [
       "<matplotlib.figure.Figure at 0x7f92a3705eb8>"
      ]
     },
     "metadata": {},
     "output_type": "display_data"
    }
   ],
   "source": [
    "pd.Series(stats['loop_pos_dist']).plot.bar()"
   ]
  },
  {
   "cell_type": "markdown",
   "metadata": {},
   "source": [
    "Same plot, but on a log scale:"
   ]
  },
  {
   "cell_type": "code",
   "execution_count": 52,
   "metadata": {
    "collapsed": false
   },
   "outputs": [
    {
     "data": {
      "text/plain": [
       "<matplotlib.axes._subplots.AxesSubplot at 0x7f92acf6af28>"
      ]
     },
     "execution_count": 52,
     "metadata": {},
     "output_type": "execute_result"
    },
    {
     "data": {
      "image/png": "[encoded data removed]",
      "text/plain": [
       "<matplotlib.figure.Figure at 0x7f92acfccd68>"
      ]
     },
     "metadata": {},
     "output_type": "display_data"
    }
   ],
   "source": [
    "pd.Series(stats['loop_pos_dist']).plot.bar(log=True)"
   ]
  },
  {
   "cell_type": "markdown",
   "metadata": {},
   "source": [
    "How many of those reads contained which barcode?\n",
    "(second plot again on log scale)"
   ]
  },
  {
   "cell_type": "code",
   "execution_count": 53,
   "metadata": {
    "collapsed": false
   },
   "outputs": [
    {
     "data": {
      "text/plain": [
       "barcode\n",
       "0      8881049\n",
       "1      9680208\n",
       "2     10833715\n",
       "3      9483055\n",
       "4     11126135\n",
       "5     11357760\n",
       "6      6854521\n",
       "7      9817739\n",
       "8      9854486\n",
       "9         1510\n",
       "10        1413\n",
       "11         361\n",
       "12         436\n",
       "13       29817\n",
       "14         761\n",
       "15         542\n",
       "16         236\n",
       "17         141\n",
       "dtype: int64"
      ]
     },
     "execution_count": 53,
     "metadata": {},
     "output_type": "execute_result"
    }
   ],
   "source": [
    "counts.sum(axis=0)"
   ]
  },
  {
   "cell_type": "code",
   "execution_count": 54,
   "metadata": {
    "collapsed": false
   },
   "outputs": [
    {
     "data": {
      "text/plain": [
       "<matplotlib.axes._subplots.AxesSubplot at 0x7f92ac29bf60>"
      ]
     },
     "execution_count": 54,
     "metadata": {},
     "output_type": "execute_result"
    },
    {
     "data": {
      "image/png": "[encoded data removed]",
      "text/plain": [
       "<matplotlib.figure.Figure at 0x7f92ac2b0d30>"
      ]
     },
     "metadata": {},
     "output_type": "display_data"
    }
   ],
   "source": [
    "counts.sum(axis=0).plot.bar(log=True, figsize=(12, 6))"
   ]
  },
  {
   "cell_type": "code",
   "execution_count": 55,
   "metadata": {
    "collapsed": false
   },
   "outputs": [],
   "source": [
    "df = counts.T.iloc[:9].T"
   ]
  },
  {
   "cell_type": "code",
   "execution_count": 56,
   "metadata": {
    "collapsed": false
   },
   "outputs": [
    {
     "data": {
      "text/plain": [
       "<seaborn.matrix.ClusterGrid at 0x7f92ab000e48>"
      ]
     },
     "execution_count": 56,
     "metadata": {},
     "output_type": "execute_result"
    },
    {
     "data": {
      "image/png": "[encoded data removed]",
      "text/plain": [
       "<matplotlib.figure.Figure at 0x7f92ab0004e0>"
      ]
     },
     "metadata": {},
     "output_type": "display_data"
    }
   ],
   "source": [
    "sb.clustermap(np.log(df + 100), yticklabels=[], robust=True)"
   ]
  }
 ],
 "metadata": {
  "anaconda-cloud": {},
  "kernelspec": {
   "display_name": "Python [conda env:msmodel]",
   "language": "python",
   "name": "conda-env-msmodel-py"
  },
  "language_info": {
   "codemirror_mode": {
    "name": "ipython",
    "version": 3
   },
   "file_extension": ".py",
   "mimetype": "text/x-python",
   "name": "python",
   "nbconvert_exporter": "python",
   "pygments_lexer": "ipython3",
   "version": "3.5.2"
  }
 },
 "nbformat": 4,
 "nbformat_minor": 0
}
